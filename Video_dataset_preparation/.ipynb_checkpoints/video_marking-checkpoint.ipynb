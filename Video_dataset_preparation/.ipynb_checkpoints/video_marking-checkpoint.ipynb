{
 "cells": [
  {
   "cell_type": "code",
   "execution_count": 1,
   "metadata": {},
   "outputs": [],
   "source": [
    "import cv2\n",
    "import matplotlib.pyplot as plt\n",
    "import numpy as np\n",
    "import json\n",
    "\n",
    "def ImShow(im, size=(14,17)):\n",
    "    plt.figure(figsize = size)\n",
    "    plt.imshow(im, 'gray')\n",
    "    plt.show()"
   ]
  },
  {
   "cell_type": "code",
   "execution_count": 2,
   "metadata": {},
   "outputs": [],
   "source": [
    "def specifyRect(roi, x0, w0, y0, h0):\n",
    "    ImShow(roi)\n",
    "    cv2.imwrite(str(x0) + '.jpeg', roi)\n",
    "    thresh = cv2.threshold(roi,127,255,cv2.THRESH_BINARY|cv2.THRESH_OTSU)[1]\n",
    "    ImShow(thresh)\n",
    "    contours, hierarchy = cv2.findContours(thresh, cv2.RETR_EXTERNAL, cv2.CHAIN_APPROX_SIMPLE)\n",
    "    for cnt in contours:\n",
    "        x,y,w,h = cv2.boundingRect(cnt)\n",
    "        cv2.rectangle(roi, (x, y), (x+w, y+h), (0,255,0), 2)\n",
    "    ImShow(roi)"
   ]
  },
  {
   "cell_type": "code",
   "execution_count": 3,
   "metadata": {},
   "outputs": [],
   "source": [
    "def saveRect(roi, x, w, y, h, current_frame):\n",
    "#    ImShow(roi)\n",
    " #   specifyRect(roi, x, w, y, h)\n",
    "    if current_frame in data:\n",
    "        data[current_frame].append([x, y, w, h])\n",
    "    else:\n",
    "        data[current_frame] = []\n",
    "        data[current_frame].append([x, y, w, h])\n",
    "    #with open(\"ground_truth.txt\", \"a\") as myfile:\n",
    "        #myfile.write(''.join([str(current_frame), ' : ', str(x), ' ', str(y), ' ', str(w), ' ', str(h), '\\n']))"
   ]
  },
  {
   "cell_type": "code",
   "execution_count": 4,
   "metadata": {},
   "outputs": [],
   "source": [
    "def printRects(frame):\n",
    "    global rects\n",
    "    global current_frame\n",
    "    \n",
    "    for Pt in rects:\n",
    "        if len(Pt) == 2:\n",
    "            y1 = min(Pt[0][1], Pt[1][1])\n",
    "            y2 = max(Pt[0][1], Pt[1][1])\n",
    "            x1 = min(Pt[0][0], Pt[1][0])\n",
    "            x2 = max(Pt[0][0], Pt[1][0])\n",
    "            roi = frame[y1:y2, x1:x2]\n",
    "            saveRect(roi, x1, x2-x1, y1, y2-y1, current_frame)"
   ]
  },
  {
   "cell_type": "code",
   "execution_count": null,
   "metadata": {
    "scrolled": false
   },
   "outputs": [],
   "source": [
    "frame = \"\"\n",
    "rects = []\n",
    "cropping = False\n",
    "data = {}\n",
    "\n",
    "# draw a rectangle around the region of interest\n",
    "def add_rect():\n",
    "    global cloneframe\n",
    "    global rects\n",
    "    try:\n",
    "        for Pt in rects:\n",
    "            cv2.rectangle(cloneframe, Pt[0], Pt[1], (0, 255, 0), 2)\n",
    "\n",
    "        if cropping:\n",
    "            cv2.rectangle(cloneframe, refPt[0], movePoint, (0, 0, 255), 2)\n",
    "            \n",
    "    except Exception as e:\n",
    "        _a = 1\n",
    "     #   print(\"Frame error! \" + str(e.__class__))\n",
    "\n",
    "\n",
    "def click_and_crop(event, x, y, flags, param):\n",
    "    # grab references to the global variables\n",
    "    global refPt, cropping, movePoint\n",
    "\n",
    "    # if the left mouse button was clicked, record the starting\n",
    "    # (x, y) coordinates and indicate that cropping is being\n",
    "    # performed\n",
    "    if event == cv2.EVENT_MOUSEMOVE:\n",
    "        if cropping:\n",
    "            movePoint = (x, y)\n",
    "\n",
    "    if event == cv2.EVENT_LBUTTONDOWN:\n",
    "        refPt = [(x, y)]\n",
    "        cropping = True\n",
    "\n",
    "    # check to see if the left mouse button was released\n",
    "    elif event == cv2.EVENT_LBUTTONUP:\n",
    "        # record the ending (x, y) coordinates and indicate that\n",
    "        # the cropping operation is finished\n",
    "        refPt.append((x, y))\n",
    "        rects.append(refPt)\n",
    "        cropping = False\n",
    "\n",
    "cap = cv2.VideoCapture(r'C:\\Users\\admin\\Google\\HumanDetection\\Data\\video.mp4')\n",
    "\n",
    "if (cap.isOpened() == False):\n",
    "    print(\"Error opening video stream or file\")\n",
    "\n",
    "cv2.namedWindow('Frame')\n",
    "cv2.setMouseCallback('Frame', click_and_crop)\n",
    "\n",
    "current_frame = -1\n",
    "\n",
    "while (cap.isOpened()):\n",
    "    ret, frame = cap.read()\n",
    "    current_frame += 1\n",
    "    \n",
    "    stop = False\n",
    "    \n",
    "    while(1):\n",
    "        cloneframe = frame.copy()\n",
    "        add_rect()\n",
    "        cv2.imshow('Frame', cloneframe)\n",
    "        last_key = cv2.waitKey(25) & 0xFF\n",
    "        if last_key == ord('x'):\n",
    "            rects = rects[:-1]\n",
    "        if last_key == ord('n'):\n",
    "            printRects(cv2.cvtColor(frame, cv2.COLOR_BGR2GRAY))\n",
    "            with open('data.json', 'w') as outfile:\n",
    "                json.dump(data, outfile)\n",
    "            break\n",
    "        if last_key == ord('q'):\n",
    "            stop = True\n",
    "            break\n",
    "    \n",
    "    if stop:\n",
    "        break\n",
    "        \n",
    "with open('data.json', 'w') as outfile:\n",
    "    json.dump(data, outfile)\n",
    "        \n",
    "cap.release()\n",
    "cv2.destroyAllWindows()"
   ]
  },
  {
   "cell_type": "code",
   "execution_count": 7,
   "metadata": {},
   "outputs": [
    {
     "data": {
      "text/plain": [
       "{'0': [[472, 82, 72, 142], [608, 216, 202, 355]],\n",
       " '1': [[472, 82, 72, 142], [608, 216, 202, 355]],\n",
       " '2': [[472, 82, 72, 142], [608, 216, 202, 355]],\n",
       " '3': [[472, 82, 72, 142], [649, 220, 201, 331]],\n",
       " '4': [[472, 82, 72, 142], [649, 220, 201, 331]],\n",
       " '5': [[472, 82, 72, 142], [649, 220, 201, 331]]}"
      ]
     },
     "execution_count": 7,
     "metadata": {},
     "output_type": "execute_result"
    }
   ],
   "source": [
    "with open(\"data.json\", \"r\") as read_file:\n",
    "    data = json.load(read_file)\n",
    "data"
   ]
  }
 ],
 "metadata": {
  "kernelspec": {
   "display_name": "Python 3",
   "language": "python",
   "name": "python3"
  },
  "language_info": {
   "codemirror_mode": {
    "name": "ipython",
    "version": 3
   },
   "file_extension": ".py",
   "mimetype": "text/x-python",
   "name": "python",
   "nbconvert_exporter": "python",
   "pygments_lexer": "ipython3",
   "version": "3.6.8"
  }
 },
 "nbformat": 4,
 "nbformat_minor": 2
}

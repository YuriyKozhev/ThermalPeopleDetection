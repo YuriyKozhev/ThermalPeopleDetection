{
 "cells": [
  {
   "cell_type": "code",
   "execution_count": 2,
   "metadata": {},
   "outputs": [],
   "source": [
    "import cv2\n",
    "import matplotlib.pyplot as plt\n",
    "import numpy as np\n",
    "import time\n",
    "from joblib import dump, load\n",
    "from auto_tsmo import full_method\n",
    "from filter_big import bFilter, bPostProcessing\n",
    "from filter_med import mFilter, mPostProcessing\n",
    "from filter_small import sFilter, sPostProcessing\n",
    "from drawing import showRect, showRects, showContours\n",
    "from feature_extraction import getFeatures, getFeaturesVector\n",
    "\n",
    "video_example = r'C:\\Users\\admin\\Google\\HumanDetection\\Data\\example.mp4'\n",
    "video_path = r'C:\\Users\\admin\\Google\\HumanDetection\\Data\\video.mp4'\n",
    "\n",
    "big_dataset = r\"C:\\Users\\admin\\Google\\HumanDetection\\Final\\big_dataset\"\n",
    "med_dataset = r\"C:\\Users\\admin\\Google\\HumanDetection\\Final\\med_dataset\"\n",
    "small_dataset = r\"C:\\Users\\admin\\Google\\HumanDetection\\Final\\small_dataset\""
   ]
  },
  {
   "cell_type": "code",
   "execution_count": 3,
   "metadata": {},
   "outputs": [],
   "source": [
    "small_model = load('svm_small_hog_lbp.joblib')\n",
    "small_add_LBP = True\n",
    "small_add_HOG = True\n",
    "\n",
    "def sClassification(gray, rects):\n",
    "    true_rects = []\n",
    "    for rect in rects:\n",
    "        x,y,w,h = rect\n",
    "        if bool(small_model.predict(getFeatures(gray[y:y+h,x:x+w], small_add_HOG, small_add_LBP))):\n",
    "            true_rects.append(rect)\n",
    "    return true_rects"
   ]
  },
  {
   "cell_type": "code",
   "execution_count": 4,
   "metadata": {},
   "outputs": [],
   "source": [
    "med_model = load('svm_med_hog_lbp.joblib')\n",
    "med_add_LBP = True\n",
    "med_add_HOG = False\n",
    "\n",
    "def mClassification(gray, rects):\n",
    "    true_rects = []\n",
    "    for rect in rects:\n",
    "        x,y,w,h = rect\n",
    "        if bool(med_model.predict(getFeatures(gray[y:y+h,x:x+w], med_add_HOG, med_add_LBP))):\n",
    "            true_rects.append(rect)\n",
    "    return true_rects"
   ]
  },
  {
   "cell_type": "code",
   "execution_count": 5,
   "metadata": {},
   "outputs": [],
   "source": [
    "big_model = load('svm_big_hog_lbp.joblib')\n",
    "big_add_LBP = False\n",
    "big_add_HOG = True\n",
    "\n",
    "def bClassification(gray, rects):\n",
    "    true_rects = []\n",
    "    for rect in rects:\n",
    "        x,y,w,h = rect\n",
    "        if bool(big_model.predict(getFeatures(gray[y:y+h,x:x+w], big_add_HOG, big_add_LBP))):\n",
    "            true_rects.append(rect)\n",
    "    return true_rects"
   ]
  },
  {
   "cell_type": "code",
   "execution_count": 9,
   "metadata": {},
   "outputs": [
    {
     "name": "stdout",
     "output_type": "stream",
     "text": [
      "Average FPS: 2.6450872719121388\n"
     ]
    }
   ],
   "source": [
    "cap = cv2.VideoCapture(video_path)\n",
    "\n",
    "start = time.time()\n",
    "\n",
    "first_frame = 0\n",
    "curr = 0\n",
    "\n",
    "while(cap.isOpened()):\n",
    "    curr += 1\n",
    "    \n",
    "    ret, frame = cap.read()\n",
    "    \n",
    "    if (curr < first_frame):\n",
    "        start = time.time()\n",
    "        continue\n",
    "    \n",
    "    frame = frame[10:-10,40:-40]\n",
    "    gray = cv2.cvtColor(frame, cv2.COLOR_BGR2GRAY)\n",
    "    \n",
    "    thresholds, masks = full_method(gray)\n",
    "    \n",
    "    contours = sFilter(thresholds, masks)\n",
    "    rects = sPostProcessing(contours)\n",
    "    #showRects(frame, rects, 'red')  \n",
    "    rects = sClassification(gray, rects)\n",
    "    showRects(frame, rects)\n",
    "    \n",
    "    contours = mFilter(thresholds, masks)\n",
    "    rects = mPostProcessing(contours)\n",
    "    #showRects(frame, rects, 'red')\n",
    "    rects = mClassification(gray, rects)\n",
    "    showRects(frame, rects)\n",
    "    \n",
    "    contours = bFilter(thresholds, masks)\n",
    "    rects = bPostProcessing(contours)\n",
    "   # showRects(frame, rects, 'red')\n",
    "    rects = bClassification(gray, rects)\n",
    "    showRects(frame, rects)\n",
    "\n",
    "        \n",
    "    cv2.imshow('frame',frame)\n",
    "    \n",
    "    if cv2.waitKey(1) & 0xFF == ord('q'):\n",
    "        break\n",
    "        \n",
    "end = time.time()\n",
    "\n",
    "print(\"Average FPS:\", (curr-first_frame)/(end-start))\n",
    "\n",
    "cap.release()\n",
    "cv2.destroyAllWindows()"
   ]
  },
  {
   "cell_type": "code",
   "execution_count": null,
   "metadata": {},
   "outputs": [],
   "source": []
  }
 ],
 "metadata": {
  "kernelspec": {
   "display_name": "Python 3",
   "language": "python",
   "name": "python3"
  },
  "language_info": {
   "codemirror_mode": {
    "name": "ipython",
    "version": 3
   },
   "file_extension": ".py",
   "mimetype": "text/x-python",
   "name": "python",
   "nbconvert_exporter": "python",
   "pygments_lexer": "ipython3",
   "version": "3.6.8"
  }
 },
 "nbformat": 4,
 "nbformat_minor": 2
}

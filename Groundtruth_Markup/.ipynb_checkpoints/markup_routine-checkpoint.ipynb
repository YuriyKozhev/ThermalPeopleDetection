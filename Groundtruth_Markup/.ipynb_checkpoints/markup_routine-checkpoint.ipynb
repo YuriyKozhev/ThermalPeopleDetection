{
 "cells": [
  {
   "cell_type": "code",
   "execution_count": 1,
   "metadata": {},
   "outputs": [],
   "source": [
    "import pandas as pd\n",
    "import numpy as np\n",
    "import datetime\n",
    "import json\n",
    "import cv2\n",
    "import matplotlib.pyplot as plt"
   ]
  },
  {
   "cell_type": "code",
   "execution_count": 2,
   "metadata": {},
   "outputs": [],
   "source": [
    "VIDEO_val_groundtruth = {}\n",
    "with open(\"VIDEO_val_groundtruth.json\", \"r\") as read_file:\n",
    "    VIDEO_val_groundtruth = json.load(read_file)\n",
    "    \n",
    "FLIR_val_groundtruth = {}\n",
    "with open(\"FLIR_val_groundtruth.json\", \"r\") as read_file:\n",
    "    FLIR_val_groundtruth = json.load(read_file)\n",
    "    \n",
    "VIDEO_train_groundtruth = {}\n",
    "with open(\"VIDEO_train_groundtruth.json\", \"r\") as read_file:\n",
    "    VIDEO_train_groundtruth = json.load(read_file)\n",
    "    \n",
    "FLIR_train_groundtruth = {}\n",
    "with open(\"FLIR_train_groundtruth.json\", \"r\") as read_file:\n",
    "    FLIR_train_groundtruth = json.load(read_file)"
   ]
  },
  {
   "cell_type": "code",
   "execution_count": 15,
   "metadata": {},
   "outputs": [],
   "source": [
    "video_gt = {}\n",
    "with open(json_folder + \"video_groundtruth.json\", \"r\") as read_file:\n",
    "    video_gt = json.load(read_file)\n",
    "\n",
    "# 1000-1749 + 7500-8249 - marked images\n",
    "train_inds = list(range(1000, 1500)) + list(range(7500, 8000))\n",
    "test_inds = list(range(1500, 1750)) + list(range(8000, 8250))\n",
    "\n",
    "video_train_gt = {}; video_test_gt = {}\n",
    "for im_path, cnts in video_gt.items():\n",
    "    if int(im_path[-9:-5]) in train_inds:\n",
    "        video_train_gt[im_path] = cnts\n",
    "    elif int(im_path[-9:-5]) in test_inds:\n",
    "        video_test_gt[im_path] = cnts\n",
    "    else:\n",
    "        assert(False)\n",
    "    \n",
    "with open(json_folder + \"VIDEO_train_groundtruth.json\", 'w') as outfile:\n",
    "    json.dump(video_train_gt, outfile)\n",
    "\n",
    "with open(json_folder + \"VIDEO_test_groundtruth.json\", 'w') as outfile:\n",
    "    json.dump(video_test_gt, outfile)"
   ]
  },
  {
   "cell_type": "code",
   "execution_count": 3,
   "metadata": {},
   "outputs": [],
   "source": [
    "with open(json_folder + \"FLIR_train_groundtruth.json\", \"r\") as read_file:\n",
    "    FLIR_val_gt = json.load(read_file)"
   ]
  },
  {
   "cell_type": "code",
   "execution_count": 12,
   "metadata": {},
   "outputs": [],
   "source": [
    "new = {}\n",
    "for key, val in FLIR_val_gt.items():\n",
    "    new[key[:8] + '\\\\Yuriy\\\\' + key[15:]] = val"
   ]
  },
  {
   "cell_type": "code",
   "execution_count": 14,
   "metadata": {},
   "outputs": [],
   "source": [
    "with open(json_folder + \"FLIR_train_groundtruth.json\", 'w') as outfile:\n",
    "    json.dump(FLIR_val_gt, outfile)"
   ]
  },
  {
   "cell_type": "code",
   "execution_count": null,
   "metadata": {},
   "outputs": [],
   "source": []
  },
  {
   "cell_type": "code",
   "execution_count": null,
   "metadata": {},
   "outputs": [],
   "source": [
    "for im_path in list(VIDEO_val_groundtruth.keys()):\n",
    "    video_gt_[video_frames_path+im_path[49:]] = video_gt[im_path]"
   ]
  },
  {
   "cell_type": "code",
   "execution_count": 20,
   "metadata": {},
   "outputs": [],
   "source": [
    "# video_frames_path = \"C:/Users/Yuriy/Google/VideoData/Frames/\"\n",
    "\n",
    "# video_gt_ = {}\n",
    "# for im_path in list(video_gt.keys()):\n",
    "#     video_gt_[video_frames_path+im_path[49:]] = video_gt[im_path]\n",
    "\n",
    "# video_gt = video_gt_"
   ]
  },
  {
   "cell_type": "code",
   "execution_count": 22,
   "metadata": {},
   "outputs": [],
   "source": [
    "# video_frames_path = \"C:/Users/Yuriy/Google/VideoData/Frames/\"\n",
    "\n",
    "# video_preds_ = {}\n",
    "# for im_path in list(video_preds.keys()):\n",
    "#     video_preds_[video_frames_path+im_path[49:]] = video_preds[im_path]\n",
    "\n",
    "# video_preds = video_preds_"
   ]
  },
  {
   "cell_type": "code",
   "execution_count": 39,
   "metadata": {},
   "outputs": [],
   "source": [
    "# FLIR_path = \"C:\\\\Users\\\\Yuriy\\\\Downloads\\\\FLIR\\\\FLIR_ADAS\\\\\"\n",
    "\n",
    "# FLIR_val_gt_ = {}\n",
    "# for im_path in list(FLIR_val_gt.keys()):\n",
    "#     FLIR_val_gt_[im_path[:9] + \"Yuriy\" + im_path[14:]] = FLIR_val_gt[im_path]\n",
    "# FLIR_val_gt = FLIR_val_gt_"
   ]
  },
  {
   "cell_type": "code",
   "execution_count": 42,
   "metadata": {},
   "outputs": [],
   "source": [
    "# FLIR_val_preds_ = {}\n",
    "# for im_path in list(FLIR_val_preds.keys()):\n",
    "#     FLIR_val_preds_[im_path[:9] + \"Yuriy\" + im_path[14:]] = FLIR_val_preds[im_path]\n",
    "# FLIR_val_preds = FLIR_val_preds_"
   ]
  },
  {
   "cell_type": "code",
   "execution_count": 43,
   "metadata": {},
   "outputs": [],
   "source": [
    "#DUMP\n",
    "with open(json_folder + \"video_groundtruth.json\", 'w') as outfile:\n",
    "    json.dump(video_gt, outfile)\n",
    "    \n",
    "with open(json_folder + \"video_predictions.json\", 'w') as outfile:\n",
    "    json.dump(video_preds, outfile)\n",
    "\n",
    "with open(json_folder + \"FLIR_val_groundtruth.json\", 'w') as outfile:\n",
    "    json.dump(FLIR_val_gt, outfile)\n",
    "    \n",
    "with open(json_folder + \"FLIR_val_predictions.json\", 'w') as outfile:\n",
    "    json.dump(FLIR_val_preds, outfile)"
   ]
  },
  {
   "cell_type": "code",
   "execution_count": null,
   "metadata": {},
   "outputs": [],
   "source": []
  }
 ],
 "metadata": {
  "kernelspec": {
   "display_name": "Python 3",
   "language": "python",
   "name": "python3"
  },
  "language_info": {
   "codemirror_mode": {
    "name": "ipython",
    "version": 3
   },
   "file_extension": ".py",
   "mimetype": "text/x-python",
   "name": "python",
   "nbconvert_exporter": "python",
   "pygments_lexer": "ipython3",
   "version": "3.6.10"
  }
 },
 "nbformat": 4,
 "nbformat_minor": 2
}

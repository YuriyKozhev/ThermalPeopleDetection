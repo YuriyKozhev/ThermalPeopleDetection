{
 "cells": [
  {
   "cell_type": "code",
   "execution_count": 1,
   "metadata": {},
   "outputs": [],
   "source": [
    "import cv2\n",
    "import numpy as np\n",
    "from matplotlib import pyplot as plt\n",
    "import matplotlib.pyplot as plt"
   ]
  },
  {
   "cell_type": "code",
   "execution_count": 355,
   "metadata": {},
   "outputs": [],
   "source": [
    "from itertools import combinations"
   ]
  },
  {
   "cell_type": "code",
   "execution_count": 7,
   "metadata": {},
   "outputs": [],
   "source": [
    "def display(img):\n",
    "    plt.imshow(img, 'gray')\n",
    "    plt.show()"
   ]
  },
  {
   "cell_type": "code",
   "execution_count": 544,
   "metadata": {},
   "outputs": [],
   "source": [
    "def gt_union(gr_t, img_shape):\n",
    "    \n",
    "    union_list = []\n",
    "    final_union_list = []\n",
    "    \n",
    "    for k in range (gr_t.__len__()):\n",
    "        union_list.append([])\n",
    "    \n",
    "    for i in range(gr_t.__len__()):\n",
    "        ax1 = gr_t[i][0]\n",
    "        ay1 = gr_t[i][1]\n",
    "        ax2 = gr_t[i][2] + gr_t[i][0]\n",
    "        ay2 = gr_t[i][3] + gr_t[i][1]\n",
    "        \n",
    "        for j in range(gr_t.__len__()):\n",
    "                bx1 = gr_t[j][0]\n",
    "                by1 = gr_t[j][1]\n",
    "                bx2 = gr_t[j][2] + gr_t[j][0]\n",
    "                by2 = gr_t[j][3] + gr_t[j][1]\n",
    "                \n",
    "                s1 = ( ax1>=bx1 and ax1<=bx2 ) or ( ax2>=bx1 and ax2<=bx2 )\n",
    "                s2 = ( ay1>=by1 and ay1<=by2 ) or ( ay2>=by1 and ay2<=by2 )\n",
    "                s3 = ( bx1>=ax1 and bx1<=ax2 ) or ( bx2>=ax1 and bx2<=ax2 )\n",
    "                s4 = ( by1>=ay1 and by1<=ay2 ) or ( by2>=ay1 and by2<=ay2 )\n",
    "                \n",
    "                if ((s1 or s3) and (abs(ay1 - by2) < .07 * img_shape[0] or abs(by1 - ay2) < .07 * img_shape[0])) or ((abs(ax1 - bx2) < .05 * img_shape[1] or abs(bx1 - ax2) < .05 * img_shape[1]) and (s2 or s4)): \n",
    "                        union_list[i].append(gr_t[j])\n",
    "    \n",
    "    for k1 in range (union_list.__len__()):\n",
    "        union_list[k1].append((gr_t[k1]))\n",
    "        \n",
    "    comb_list = []\n",
    "    \n",
    "    for e in range(union_list.__len__()):\n",
    "        for it in range(2, union_list[e].__len__() + 1):\n",
    "            comb = list(combinations(union_list[e], it))\n",
    "            for it1 in range(comb.__len__()):\n",
    "                for it2 in range(comb[it1].__len__()):\n",
    "                    if comb[it1][it2] == gr_t[e]:\n",
    "                        comb_list.append(list(comb[it1]))\n",
    "                        \n",
    "         \n",
    "    \n",
    "    for e in range(union_list.__len__()):     \n",
    "        for r in range(union_list.__len__()):\n",
    "            if list(set(union_list[e]) & set(union_list[r])) != []:\n",
    "                comb_list.append(list(set(union_list[e] + union_list[r])))\n",
    "    grt = []            \n",
    "    for i in range(gr_t.__len__()):\n",
    "        grt.append(gr_t[i])\n",
    "\n",
    "                \n",
    "    a =  [list(x) for x in set(tuple(x) for x in (comb_list + union_list))]\n",
    "    \n",
    "    x1_list = []\n",
    "    y1_list = []\n",
    "    x2_list = []\n",
    "    y2_list = []\n",
    "\n",
    "    for k0 in range (a.__len__()):\n",
    "        x1_list.append([])\n",
    "        y1_list.append([])\n",
    "        x2_list.append([])\n",
    "        y2_list.append([])   \n",
    "\n",
    "    for k2 in range (a.__len__()):\n",
    "        for ik in range(a[k2].__len__()):\n",
    "            x1_list[k2].append(a[k2][ik][0])\n",
    "            y1_list[k2].append(a[k2][ik][1])\n",
    "            x2_list[k2].append(a[k2][ik][2] + a[k2][ik][0])\n",
    "            y2_list[k2].append(a[k2][ik][3] + a[k2][ik][1])\n",
    "\n",
    "    for k3 in range (a.__len__()):\n",
    "        left = min(x1_list[k3])\n",
    "        bottom = min(y1_list[k3])\n",
    "        right = max(x2_list[k3])\n",
    "        top = max(y2_list[k3])\n",
    "        \n",
    "        final_union_list.append((left, bottom, right - left, top - bottom))\n",
    "           \n",
    "        \n",
    "    unique_conts = [list(x) for x in set(tuple(x) for x in (final_union_list + gr_t))]\n",
    "    \n",
    "    unique_conts = [tuple(x) for x in unique_conts]\n",
    "    \n",
    "    new_conts = list(set(unique_conts) - set(gr_t))    \n",
    "\n",
    "    d_union_conts = {}\n",
    "\n",
    "    for i in range(new_conts.__len__()):\n",
    "        val = []\n",
    "        for j in range(gr_t.__len__()):\n",
    "            if inside(new_conts[i], gr_t[j]):\n",
    "                val.append(gr_t[j])\n",
    "        d_union_conts[new_conts[i]] = val\n",
    "        \n",
    "    return unique_conts, d_union_conts\n"
   ]
  },
  {
   "cell_type": "code",
   "execution_count": 545,
   "metadata": {},
   "outputs": [],
   "source": [
    "def inside(big, small):\n",
    "    if big[0] <= small[0] and big[0] + big[2] >= small[0] + small[2] and big[1] <= small[1] and big[1] + big[3] >= small[1]+ small[3]:\n",
    "        return True\n",
    "    else:\n",
    "        return False"
   ]
  },
  {
   "cell_type": "code",
   "execution_count": 138,
   "metadata": {},
   "outputs": [],
   "source": [
    "def intersecting_detect(fir, sec, near = False):\n",
    "\n",
    "    a = False\n",
    "    \n",
    "    ax1 = fir[0]\n",
    "    ay1 = fir[1]\n",
    "    ax2 = fir[2] + fir[0]\n",
    "    ay2 = fir[3] + fir[1]\n",
    "\n",
    "    bx1 = sec[0]\n",
    "    by1 = sec[1]\n",
    "    bx2 = sec[2] + sec[0]\n",
    "    by2 = sec[3] + sec[1]\n",
    "\n",
    "    \n",
    "    \n",
    "    s1 = ( ax1>=bx1 and ax1<=bx2 ) or ( ax2>=bx1 and ax2<=bx2 )\n",
    "    s2 = ( ay1>=by1 and ay1<=by2 ) or ( ay2>=by1 and ay2<=by2 )\n",
    "    s3 = ( bx1>=ax1 and bx1<=ax2 ) or ( bx2>=ax1 and bx2<=ax2 )\n",
    "    s4 = ( by1>=ay1 and by1<=ay2 ) or ( by2>=ay1 and by2<=ay2 )\n",
    "\n",
    "    if ((s1 and s2) or (s3 and s4)) or ((s1 and s4) or (s3 and s2)):\n",
    "        a = True\n",
    "        return a\n",
    "        \n",
    "    elif near:\n",
    "        if (s1 or s3) and (abs(ay1 - by2) < 35 or abs(by1 - ay2) < 35):\n",
    "            a = True\n",
    "            return a\n",
    "        \n",
    "        if (abs(ax1 - bx2) < 12 or abs(bx1 - ax2) < 12) and (abs(ay1 - by2) < 22 or abs(by1 - ay2) < 22): \n",
    "            a = True\n",
    "            return a\n",
    "    else:\n",
    "        return False"
   ]
  },
  {
   "cell_type": "code",
   "execution_count": 614,
   "metadata": {},
   "outputs": [],
   "source": [
    "def getIoU(gr_t, gr_w_uni, dict_conts, cont, img_shape):\n",
    "    \n",
    "    \n",
    "    \n",
    "#   gr_t: X,Y,W,H\n",
    "#   cont: X,Y,X+W,Y+H\n",
    "\n",
    "    table = np.zeros((gr_t.__len__(), cont.__len__()))\n",
    "    \n",
    "    \n",
    "    for i, gr in enumerate(gr_w_uni):\n",
    "        \n",
    "#         if gr[2]*gr[3] > .015 * img_shape[0]*img_shape[1]:\n",
    "#             thhold_iou = .5\n",
    "#             thhold_i = 0\n",
    "#         else:\n",
    "#             thhold_iou = .23\n",
    "#             thhold_i = .66\n",
    "#         print(table)\n",
    "        for j, ct in enumerate(cont):\n",
    "            if intersecting_detect(gr, ct):\n",
    "                if list(set(list(dict_conts.keys())) & set({gr})) != []:\n",
    "                    inDict = dict_conts[gr]\n",
    "\n",
    "                    idx_list = []\n",
    "\n",
    "                    for k in range(inDict.__len__()):\n",
    "                        idx_list.append(list(gr_t).index(inDict[k]))\n",
    "#                              ??????\n",
    "                    sq =0\n",
    "                    for k in (idx_list):\n",
    "                        left = max(gr_t[k][0], ct[0])\n",
    "                        top = min(gr_t[k][3] + gr_t[k][1], ct[3] + ct[1])\n",
    "                        right = min(gr_t[k][2] + gr_t[k][0], ct[2] + ct[0])\n",
    "                        bottom = max(gr_t[k][1], ct[1])\n",
    "                        \n",
    "                        sq += (right - left) * (top - bottom)\n",
    "                        \n",
    "                    s1 = gr[2] * gr[3]\n",
    "                    s2 = ct[2] * ct[3]\n",
    "\n",
    "                    s_12_union = s1 + s2 - sq\n",
    "                    \n",
    "                    for k in (idx_list):\n",
    "                        table[k][j] = max(table[k][j], sq / s_12_union)\n",
    "                        \n",
    "                        \n",
    "                \n",
    "                else:\n",
    "#               Пересечение\n",
    "\n",
    "                    left = max(gr[0], ct[0])\n",
    "                    top = min(gr[3] + gr[1], ct[3] + ct[1])\n",
    "                    right = min(gr[2] + gr[0], ct[2] + ct[0])\n",
    "                    bottom = max(gr[1], ct[1])\n",
    "\n",
    "                    s0 = (right - left) * (top - bottom)\n",
    "\n",
    "                    #                Объединение\n",
    "\n",
    "                    s1 = gr[2] * gr[3]\n",
    "                    s2 = ct[2] * ct[3]\n",
    "\n",
    "                    s_12_union = s1 + s2 - s0\n",
    "\n",
    "                    l = gr_t.index(gr)\n",
    "\n",
    "                    table[l][j] = max(table[l][j], s0 / s_12_union)\n",
    "\n",
    "    \n",
    "    return table"
   ]
  },
  {
   "cell_type": "code",
   "execution_count": 91,
   "metadata": {},
   "outputs": [],
   "source": [
    "def painting(cont_list, image, alt_colour = False):\n",
    "    copy_img = image.copy()\n",
    "    if alt_colour == False:\n",
    "        for i in range(cont_list.__len__()):\n",
    "            cv2.rectangle(copy_img, (cont_list[i][0], cont_list[i][1]), (cont_list[i][0] + cont_list[i][2], cont_list[i][1] + cont_list[i][3]), (255, 0, 0), 2)\n",
    "            \n",
    "    else:\n",
    "        for i in range(cont_list.__len__()):\n",
    "            cv2.rectangle(copy_img, (cont_list[i][0], cont_list[i][1]), (cont_list[i][0] + cont_list[i][2], cont_list[i][1] + cont_list[i][3]), (0, 0, 255), 2)\n",
    "         \n",
    "\n",
    "    return copy_img"
   ]
  },
  {
   "cell_type": "code",
   "execution_count": 616,
   "metadata": {},
   "outputs": [],
   "source": [
    "def main_metric(gr_t, cont, size = (480, 640)):\n",
    "    conts, dict_conts = gt_union(gr_t, size)\n",
    "    table = getIoU(gr_t, conts, dict_conts, cont, size)\n",
    "    \n",
    "    return table"
   ]
  },
  {
   "cell_type": "code",
   "execution_count": 617,
   "metadata": {},
   "outputs": [
    {
     "data": {
      "text/plain": [
       "array([[0.20670391, 0.        , 0.        , 0.        , 0.        ],\n",
       "       [0.37618637, 0.        , 0.        , 0.        , 0.        ],\n",
       "       [0.37618637, 0.        , 0.        , 0.        , 0.        ],\n",
       "       [0.        , 0.27419355, 0.        , 0.        , 0.        ],\n",
       "       [0.        , 0.        , 0.21108179, 0.        , 0.        ],\n",
       "       [0.        , 0.        , 0.        , 0.12071535, 0.        ],\n",
       "       [0.        , 0.        , 0.        , 0.        , 0.51404853]])"
      ]
     },
     "execution_count": 617,
     "metadata": {},
     "output_type": "execute_result"
    }
   ],
   "source": [
    "main_metric(gt_list, cont_list)"
   ]
  },
  {
   "cell_type": "code",
   "execution_count": 49,
   "metadata": {},
   "outputs": [],
   "source": [
    "image= cv2.imread(\"/Users/macuha/Desktop/white.png\")\n",
    "image0 = cv2.cvtColor(image, cv2.COLOR_BGR2GRAY)"
   ]
  },
  {
   "cell_type": "code",
   "execution_count": 90,
   "metadata": {},
   "outputs": [
    {
     "data": {
      "image/png": "[encoded data removed]",
      "text/plain": [
       "<Figure size 432x288 with 1 Axes>"
      ]
     },
     "metadata": {
      "needs_background": "light"
     },
     "output_type": "display_data"
    }
   ],
   "source": [
    "display(image)"
   ]
  },
  {
   "cell_type": "code",
   "execution_count": 618,
   "metadata": {},
   "outputs": [],
   "source": [
    "image_ = image.copy()\n",
    "for i in r:\n",
    "    cv2.rectangle(image_, (i[0], i[1]), (i[0] + i[2], i[1] + i[3]), (255,0,0), 2)"
   ]
  },
  {
   "cell_type": "code",
   "execution_count": 619,
   "metadata": {
    "scrolled": true
   },
   "outputs": [
    {
     "data": {
      "image/png": "[encoded data removed]",
      "text/plain": [
       "<Figure size 432x288 with 1 Axes>"
      ]
     },
     "metadata": {
      "needs_background": "light"
     },
     "output_type": "display_data"
    }
   ],
   "source": [
    "display(image_)"
   ]
  },
  {
   "cell_type": "code",
   "execution_count": 385,
   "metadata": {},
   "outputs": [],
   "source": [
    "gt_list = [ (10, 60, 40, 66),\n",
    "    (70, 70, 40, 70),\n",
    "    (125, 75, 30, 52), (240, 100, 17, 40), (400, 80, 22, 45), (550, 117, 32, 49), (330, 250, 70, 115)]"
   ]
  },
  {
   "cell_type": "code",
   "execution_count": 342,
   "metadata": {},
   "outputs": [],
   "source": [
    "cont_list = [(60, 50, 100, 100), (235, 95, 40, 62), (360, 60, 60, 60), (570, 139, 32, 45), (320, 235, 108, 145)]"
   ]
  }
 ],
 "metadata": {
  "kernelspec": {
   "display_name": "Python 3",
   "language": "python",
   "name": "python3"
  },
  "language_info": {
   "codemirror_mode": {
    "name": "ipython",
    "version": 3
   },
   "file_extension": ".py",
   "mimetype": "text/x-python",
   "name": "python",
   "nbconvert_exporter": "python",
   "pygments_lexer": "ipython3",
   "version": "3.7.2"
  }
 },
 "nbformat": 4,
 "nbformat_minor": 2
}

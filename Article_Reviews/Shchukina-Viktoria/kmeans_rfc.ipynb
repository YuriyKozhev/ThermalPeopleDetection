{
 "cells": [
  {
   "cell_type": "code",
   "execution_count": 7,
   "metadata": {},
   "outputs": [],
   "source": [
    "import numpy as np\n",
    "from sklearn.ensemble import RandomForestClassifier\n",
    "from PIL import Image\n",
    "from sklearn.cluster import KMeans\n",
    "from skimage.feature import hog\n",
    "from sklearn.metrics import accuracy_score\n",
    "import glob\n",
    "from sklearn.model_selection import train_test_split\n",
    "    "
   ]
  },
  {
   "cell_type": "code",
   "execution_count": 8,
   "metadata": {},
   "outputs": [],
   "source": [
    "def k_means_rfc(array,labels):\n",
    "        arr=[]\n",
    "        for im_path in array:\n",
    "            image =  Image.open(im_path)\n",
    "            if image is None:\n",
    "                break\n",
    "            fd = hog(image, orientations=9, pixels_per_cell=(8,8),cells_per_block=(2,2))\n",
    "            arr.append(fd)\n",
    "\n",
    "\n",
    "        k_means= KMeans(init=\"k-means++\",n_clusters=2)\n",
    "        k_means.fit(arr)\n",
    "        \n",
    "        X=[]\n",
    "        cent=k_means.cluster_centers_\n",
    "        for a in arr:\n",
    "            i=[]\n",
    "            for b in cent:\n",
    "                a=np.array(a)\n",
    "                b=np.array(b)\n",
    "                R=np.exp(-1*np.linalg.norm(a-b)**2/(a.transpose().dot(a)))\n",
    "                i.append(R)\n",
    "            X.append(i)   \n",
    "\n",
    "        X_train, X_test, y_train, y_test = train_test_split(X,labels, test_size=0.3, random_state = 200)\n",
    "\n",
    "        rfc=RandomForestClassifier().fit(X_train, y_train)\n",
    "        y_pred=rfc.predict(X_test)\n",
    "        \n",
    "        print(accuracy_score(y_test,y_pred))\n",
    "        return y_pred\n",
    "    "
   ]
  },
  {
   "cell_type": "code",
   "execution_count": null,
   "metadata": {},
   "outputs": [],
   "source": []
  }
 ],
 "metadata": {
  "kernelspec": {
   "display_name": "Python 3",
   "language": "python",
   "name": "python3"
  },
  "language_info": {
   "codemirror_mode": {
    "name": "ipython",
    "version": 3
   },
   "file_extension": ".py",
   "mimetype": "text/x-python",
   "name": "python",
   "nbconvert_exporter": "python",
   "pygments_lexer": "ipython3",
   "version": "3.8.5"
  }
 },
 "nbformat": 4,
 "nbformat_minor": 4
}
